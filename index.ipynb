{
 "cells": [
  {
   "cell_type": "markdown",
   "id": "0cbfd065",
   "metadata": {},
   "source": [
    "# Numpy\n",
    "\n",
    "Numerical Python\n",
    "- Used for numerical computations\n",
    "- Iterable\n",
    "- Mutable\n",
    "- Homogenous - All elements have to be of the same data type\n",
    "\n",
    "##### Why numpy arrays over lists and tuples?\n",
    "- Consumes less memory\n",
    "- Vectorization - the absence of any explicit looping\n",
    "- Faster\n",
    "- Convenient for a lot of tasks"
   ]
  },
  {
   "cell_type": "code",
   "execution_count": 2,
   "id": "3d4b7f5d",
   "metadata": {},
   "outputs": [],
   "source": [
    "import numpy as np # np - alias"
   ]
  },
  {
   "cell_type": "code",
   "execution_count": 6,
   "id": "2aa3dd24",
   "metadata": {},
   "outputs": [
    {
     "name": "stdout",
     "output_type": "stream",
     "text": [
      "[1, 2, 3, 4, 5] is of type <class 'list'>\n",
      "[1 2 3 4 5] is of type <class 'numpy.ndarray'>\n"
     ]
    }
   ],
   "source": [
    "# Creating a 1D array from a list\n",
    "num_list = [1, 2, 3, 4, 5]\n",
    "print(num_list, \"is of type\", type(num_list))\n",
    "\n",
    "list_to_array = np.array(num_list)\n",
    "print(list_to_array, \"is of type\", type(list_to_array))"
   ]
  },
  {
   "cell_type": "code",
   "execution_count": 8,
   "id": "6bbc7e7a",
   "metadata": {},
   "outputs": [
    {
     "name": "stdout",
     "output_type": "stream",
     "text": [
      "(1, 2, 3, 4, 5) is of type <class 'tuple'>\n",
      "[1 2 3 4 5] is of type <class 'numpy.ndarray'>\n"
     ]
    }
   ],
   "source": [
    "# Creating a 1D array from a tuple\n",
    "num_tuple = (1, 2, 3, 4, 5)\n",
    "print(num_tuple, \"is of type\", type(num_tuple))\n",
    "\n",
    "tuple_to_array = np.array(num_tuple)\n",
    "print(tuple_to_array, \"is of type\", type(tuple_to_array))"
   ]
  },
  {
   "cell_type": "code",
   "execution_count": 11,
   "id": "f0bf847c",
   "metadata": {},
   "outputs": [
    {
     "name": "stdout",
     "output_type": "stream",
     "text": [
      "List:  [1, 2, 3, 4, 5.5, 6.5]\n",
      "Numpy array:  [1.  2.  3.  4.  5.5 6.5]\n"
     ]
    }
   ],
   "source": [
    "# Homogenous values\n",
    "# Float values have a higher order than integers\n",
    "\n",
    "num_list = [1, 2, 3, 4, 5.5, 6.5]\n",
    "print(\"List: \", num_list)\n",
    "\n",
    "list_to_array = np.array(num_list)\n",
    "print(\"Numpy array: \", list_to_array)\n"
   ]
  },
  {
   "cell_type": "code",
   "execution_count": 14,
   "id": "31731f55",
   "metadata": {},
   "outputs": [
    {
     "name": "stdout",
     "output_type": "stream",
     "text": [
      "List:  [1, 2, 3, 4, 5, 'Joshua']\n",
      "Numpy array:  ['1' '2' '3' '4' '5' 'Joshua']\n"
     ]
    }
   ],
   "source": [
    "# String values have a higher order than integers\n",
    "\n",
    "list_var = [1, 2, 3, 4, 5, 'Joshua']\n",
    "print(\"List: \", list_var)\n",
    "\n",
    "list_to_array = np.array(list_var)\n",
    "print(\"Numpy array: \", list_to_array)"
   ]
  },
  {
   "cell_type": "markdown",
   "id": "6810aa84",
   "metadata": {},
   "source": [
    "# Dimensions in arrays"
   ]
  },
  {
   "cell_type": "code",
   "execution_count": 29,
   "id": "67efd775",
   "metadata": {},
   "outputs": [
    {
     "name": "stdout",
     "output_type": "stream",
     "text": [
      "2D array: \n",
      "[[1.  2.  5.5]\n",
      " [3.  4.  5. ]]\n"
     ]
    }
   ],
   "source": [
    "#2D array - Multiple 1D arrays\n",
    "array_2D = np.array([[1, 2, 5.5], [3, 4, 5]])\n",
    "print(\"2D array: \", array_2D, sep =\"\\n\")"
   ]
  },
  {
   "cell_type": "code",
   "execution_count": 30,
   "id": "648c76fc",
   "metadata": {},
   "outputs": [
    {
     "name": "stdout",
     "output_type": "stream",
     "text": [
      "3D array: \n",
      "[[[1.  2.  5.5]\n",
      "  [3.  4.  5. ]]\n",
      "\n",
      " [[1.  2.  5.5]\n",
      "  [3.  4.  5. ]]]\n"
     ]
    }
   ],
   "source": [
    "# 3D array = multiple 2D arrays\n",
    "\n",
    "array_3D = np.array([[[1, 2, 5.5], [3, 4, 5]], [[1, 2, 5.5], [3, 4, 5]]] )\n",
    "print(\"3D array: \", array_3D, sep = \"\\n\")"
   ]
  },
  {
   "cell_type": "markdown",
   "id": "1ddf2b82",
   "metadata": {},
   "source": [
    "##### How is NumPy better?\n"
   ]
  },
  {
   "cell_type": "code",
   "execution_count": 38,
   "id": "9bdd7255",
   "metadata": {},
   "outputs": [
    {
     "name": "stdout",
     "output_type": "stream",
     "text": [
      "[2, 4, 6, 8, 10]\n"
     ]
    }
   ],
   "source": [
    "# Add each list index element of list_1 to the corresponding index element of list_2 and create a new list with the values\n",
    "\n",
    "list_1 = [1, 2, 3, 4, 5, 6]\n",
    "list_2 = [1, 2, 3, 4, 5]\n",
    "sum_list = []\n",
    "\n",
    "min_length = min(len(list_1), len(list_2))\n",
    "#print(min_length)\n",
    "\n",
    "for i in range(0, min_length):\n",
    "    sum_list.append(list_1[i] + list_2[i])\n",
    "print(sum_list)\n"
   ]
  },
  {
   "cell_type": "code",
   "execution_count": 39,
   "id": "a67ac6a1",
   "metadata": {},
   "outputs": [
    {
     "name": "stdout",
     "output_type": "stream",
     "text": [
      "[[2, 4, 6, 8, 10]]\n"
     ]
    }
   ],
   "source": [
    "# Optimal method using lambda\n",
    "\n",
    "list_1 = [1, 2, 3, 4, 5, 6]\n",
    "list_2 = [1, 2, 3, 4, 5]\n",
    "sum_list = []\n",
    "\n",
    "sum_list.append(list(map(lambda x, y : x+y, list_1, list_2 )))\n",
    "print(sum_list)\n",
    "\n",
    "\n"
   ]
  },
  {
   "cell_type": "code",
   "execution_count": 40,
   "id": "b8baf227",
   "metadata": {},
   "outputs": [
    {
     "name": "stdout",
     "output_type": "stream",
     "text": [
      "[ 2  4  6  8 10]\n"
     ]
    }
   ],
   "source": [
    "# Best solution\n",
    "# Using numpy to solve the problem => Vectorized code\n",
    "\n",
    "array_1 = np.array([1, 2, 3, 4, 5])\n",
    "array_2 = np.array([1, 2, 3, 4, 5])\n",
    "\n",
    "sum_array = array_1 + array_2 \n",
    "print(sum_array)\n"
   ]
  },
  {
   "cell_type": "code",
   "execution_count": 49,
   "id": "ff1e57ee",
   "metadata": {},
   "outputs": [
    {
     "name": "stdout",
     "output_type": "stream",
     "text": [
      "Are values of array_1 >= 3? \t[False False  True  True  True]\n",
      "Values of array_1 >=3: \t[3 4 5]\n",
      "Values of array_1 >=3:\t[3 4 5]\n"
     ]
    }
   ],
   "source": [
    "# Condition to check - if values in the array >=3\n",
    "\n",
    "array_1_bool = array_1 >= 3\n",
    "print(\"Are values of array_1 >= 3? \", array_1_bool, sep= \"\\t\")\n",
    "print(\"Values of array_1 >=3: \", array_1[array_1_bool], sep= \"\\t\")\n",
    "\n",
    "#Optimal way:\n",
    "print(\"Values of array_1 >=3:\", array_1[array_1>=3], sep= \"\\t\")\n"
   ]
  },
  {
   "cell_type": "code",
   "execution_count": 58,
   "id": "fbcfa02a",
   "metadata": {},
   "outputs": [
    {
     "name": "stdout",
     "output_type": "stream",
     "text": [
      "Array_1: \n",
      "[[1 2 3]\n",
      " [4 5 6]]\n",
      "\n",
      "Array_2: \n",
      "[[11 12 13]\n",
      " [14 15 16]]\n",
      "\n",
      "Subtraction: \n",
      "[[10 10 10]\n",
      " [10 10 10]]\n"
     ]
    }
   ],
   "source": [
    "# Matrix subtraction using np\n",
    "\n",
    "array_1 = np.array([[1, 2, 3], [4, 5, 6]])\n",
    "array_2 = np.array([[11, 12, 13], [14, 15, 16]])\n",
    "\n",
    "print(\"Array_1: \", array_1, sep = \"\\n\", end = \"\\n\\n\")\n",
    "print(\"Array_2: \", array_2, sep = \"\\n\", end = \"\\n\\n\")\n",
    "\n",
    "print(\"Subtraction: \", array_2-array_1, sep= \"\\n\")"
   ]
  },
  {
   "cell_type": "markdown",
   "id": "27b17fdc",
   "metadata": {},
   "source": [
    "# Functions"
   ]
  },
  {
   "cell_type": "code",
   "execution_count": 64,
   "id": "0e5df46c",
   "metadata": {},
   "outputs": [
    {
     "name": "stdout",
     "output_type": "stream",
     "text": [
      "[ 1  2  3  4  5  6  7  8  9 10 11 12 13 14]\n",
      "[ 1  2  3  4  5  6  7  8  9 10 11 12 13 14]\n",
      "[15 14 13 12 11 10  9  8  7  6  5  4  3  2]\n"
     ]
    }
   ],
   "source": [
    "#Arange function\n",
    "\n",
    "# Without using arange function\n",
    "arange_array = np.array(list(range(1, 15, 1)))\n",
    "print(arange_array)\n",
    "\n",
    "# Using arange - increment factor\n",
    "arange_array = np.arange(1, 15, 1)\n",
    "print(arange_array)\n",
    "\n",
    "# Using arange - decrement factor\n",
    "arange_array = np.arange(15, 1, -1)\n",
    "print(arange_array)"
   ]
  },
  {
   "cell_type": "code",
   "execution_count": 69,
   "id": "9342e906",
   "metadata": {},
   "outputs": [
    {
     "name": "stdout",
     "output_type": "stream",
     "text": [
      "[0. 0. 0. 0. 0.]\n",
      "\n",
      "[[0 0 0 0 0]\n",
      " [0 0 0 0 0]\n",
      " [0 0 0 0 0]\n",
      " [0 0 0 0 0]\n",
      " [0 0 0 0 0]]\n"
     ]
    }
   ],
   "source": [
    "# Zeros function\n",
    "# Printing an array with zeros only\n",
    "\n",
    "# 1 Dimensional\n",
    "zero_1D = np.zeros(5) # Five zeros\n",
    "print(zero_1D, end = \"\\n\\n\")\n",
    "\n",
    "# 2 Dimensional\n",
    "zero_2D = np.zeros((5, 5), dtype = int)\n",
    "print(zero_2D)"
   ]
  },
  {
   "cell_type": "code",
   "execution_count": 71,
   "id": "81de7ef7",
   "metadata": {},
   "outputs": [
    {
     "name": "stdout",
     "output_type": "stream",
     "text": [
      "[1. 1. 1. 1. 1.]\n",
      "\n",
      "[[1 1 1 1 1]\n",
      " [1 1 1 1 1]\n",
      " [1 1 1 1 1]\n",
      " [1 1 1 1 1]\n",
      " [1 1 1 1 1]]\n"
     ]
    }
   ],
   "source": [
    "# Ones function\n",
    "# Printing an array with zeros only\n",
    "\n",
    "# 1 Dimensional\n",
    "ones_1D = np.ones(5) # five ones\n",
    "print(ones_1D, end = \"\\n\\n\")\n",
    "\n",
    "# 2 Dimensional\n",
    "ones_2D = np.ones((5, 5), dtype = int)\n",
    "print(ones_2D)"
   ]
  },
  {
   "cell_type": "code",
   "execution_count": 78,
   "id": "c51143ac",
   "metadata": {},
   "outputs": [
    {
     "name": "stdout",
     "output_type": "stream",
     "text": [
      "[5 5 5 5 5]\n",
      "\n",
      "[[3 3 3 3 3]\n",
      " [3 3 3 3 3]\n",
      " [3 3 3 3 3]\n",
      " [3 3 3 3 3]\n",
      " [3 3 3 3 3]]\n"
     ]
    }
   ],
   "source": [
    "# Full function\n",
    "# For filling values other than 0 and 1\n",
    "\n",
    "fives_1D = np.full(shape = 5, fill_value = 5)\n",
    "print(fives_1D, end = \"\\n\\n\")\n",
    "\n",
    "threes_2D = np.full(shape = (5, 5), fill_value = 3)\n",
    "print(threes_2D)"
   ]
  },
  {
   "cell_type": "code",
   "execution_count": 83,
   "id": "298b4d7a",
   "metadata": {},
   "outputs": [
    {
     "name": "stdout",
     "output_type": "stream",
     "text": [
      "[[0.06588969 0.517756   0.05922128 0.73094058]\n",
      " [0.91637643 0.85240801 0.11984151 0.0938842 ]\n",
      " [0.48947183 0.09221736 0.71217778 0.26020836]]\n"
     ]
    }
   ],
   "source": [
    "# Random function\n",
    "# Used to generate decimal values between 0 and 1\n",
    "\n",
    "random_values = np.random.random((3, 4))\n",
    "print(random_values)"
   ]
  },
  {
   "cell_type": "code",
   "execution_count": 108,
   "id": "f6f5b8c6",
   "metadata": {},
   "outputs": [
    {
     "name": "stdout",
     "output_type": "stream",
     "text": [
      "[11  8 13  6  7  5  8]\n",
      "[[ 7  2  8]\n",
      " [ 5  7  4]\n",
      " [ 5 12 10]]\n"
     ]
    }
   ],
   "source": [
    "#Seed significance and randint function\n",
    "\n",
    "np.random.seed(210)# Seed makes the random values constant even when the code is run multiple times\n",
    "print(np.random.randint(high = 15, low= 1, size = 7))\n",
    "#2D\n",
    "print(np.random.randint(high = 15, low = 1, size =(3, 3), dtype= int))"
   ]
  },
  {
   "cell_type": "code",
   "execution_count": 117,
   "id": "34307565",
   "metadata": {},
   "outputs": [
    {
     "name": "stdout",
     "output_type": "stream",
     "text": [
      "[[1 0 0]\n",
      " [0 1 0]\n",
      " [0 0 1]]\n",
      "[[1 0 0]\n",
      " [0 1 0]\n",
      " [0 0 1]]\n"
     ]
    }
   ],
   "source": [
    "# Eye function\n",
    "# To generate an Identity matrix\n",
    "\n",
    "print(np.eye(3, dtype = int))\n",
    "\n",
    "# Specifying rows and columns \n",
    "print(np.eye(M = 3, N=3, dtype= int))"
   ]
  },
  {
   "cell_type": "code",
   "execution_count": 122,
   "id": "13639ac8",
   "metadata": {},
   "outputs": [
    {
     "name": "stdout",
     "output_type": "stream",
     "text": [
      "[ 1  5 10 15 20 25 30 35 40]\n"
     ]
    }
   ],
   "source": [
    "# Linspace function\n",
    "# We use linspace when we know the size, range but not the stepsize(the incremental value)\n",
    "\n",
    "print(np.linspace(1, 40, 9, dtype = int)) # 1 - lowest value,  40 - highest value, 5 - size"
   ]
  },
  {
   "cell_type": "code",
   "execution_count": 127,
   "id": "20764db8",
   "metadata": {},
   "outputs": [
    {
     "name": "stdout",
     "output_type": "stream",
     "text": [
      "(3,)\n"
     ]
    }
   ],
   "source": [
    "# shape function\n",
    "# Returns the shape of the array\n",
    "\n",
    "print(np.shape((1, 40, 9))) "
   ]
  },
  {
   "cell_type": "code",
   "execution_count": 133,
   "id": "b8ef2af5",
   "metadata": {},
   "outputs": [
    {
     "name": "stdout",
     "output_type": "stream",
     "text": [
      "[[ 1  5 10]\n",
      " [15 20 25]\n",
      " [30 35 40]]\n"
     ]
    }
   ],
   "source": [
    "# Reshape function\n",
    "# Make the linspace array to 2D\n",
    "\n",
    "print(np.linspace(1, 40, 9,dtype = int).reshape(3, 3)) # Now the arguments in the reshape function when multiplied must give the size of the array (9)"
   ]
  },
  {
   "cell_type": "code",
   "execution_count": 138,
   "id": "561544f0",
   "metadata": {},
   "outputs": [
    {
     "name": "stdout",
     "output_type": "stream",
     "text": [
      "[1 2 3 1 2 3 1 2 3]\n",
      "[[1 2 3 1 2 3]\n",
      " [1 2 3 1 2 3]\n",
      " [1 2 3 1 2 3]]\n"
     ]
    }
   ],
   "source": [
    "# Tile function\n",
    "# Repeat a sequence to create a new array of numbers\n",
    "\n",
    "#1D\n",
    "print(np.tile([1, 2, 3],3)) # Repeat 1, 2, 3 three times\n",
    "\n",
    "#2D\n",
    "print(np.tile([1,2,3], (3, 2))) # Repeat 1, 2, 3 in 3 rows 2 times\n",
    "\n"
   ]
  },
  {
   "cell_type": "raw",
   "id": "787a56eb",
   "metadata": {},
   "source": [
    "Generate 2 arrays as shown below and add then together to generate a new array.\n",
    "[[1 2 3           [[2  4  6\n",
    "  1 2 3     +       8  10 12      \n",
    "  1 2 3]]           14 16 18]]"
   ]
  },
  {
   "cell_type": "code",
   "execution_count": 156,
   "id": "792b349e",
   "metadata": {},
   "outputs": [
    {
     "name": "stdout",
     "output_type": "stream",
     "text": [
      "Array 1: \n",
      "[[1 2 3]\n",
      " [1 2 3]\n",
      " [1 2 3]]\n",
      "\n",
      "Array 2: \n",
      "[[ 2  4  6]\n",
      " [ 8 10 12]\n",
      " [14 16 18]]\n",
      "Sum:  [[ 3  6  9]\n",
      " [ 9 12 15]\n",
      " [15 18 21]]\n"
     ]
    }
   ],
   "source": [
    "array_1 = np.tile([1, 2, 3], (3, 1))\n",
    "print(\"Array 1: \", array_1, sep =\"\\n\", end = \"\\n\\n\")\n",
    "\n",
    "array_2 = np.arange(2, 19,2).reshape(3, 3)\n",
    "print(\"Array 2: \", array_2, sep =\"\\n\")\n",
    "\n",
    "print(\"Sum: \", array_1+array_2)\n",
    "\n"
   ]
  },
  {
   "cell_type": "raw",
   "id": "b3c31a31",
   "metadata": {},
   "source": [
    "Generate 2 arrays as shown below and multiply them together to generate a new array\n",
    "[[1 2 3           [[1  1  1\n",
    "  1 2 3     x       1  1  1      \n",
    "  1 2 3]]           1  1  1]]"
   ]
  },
  {
   "cell_type": "code",
   "execution_count": 176,
   "id": "ad092c1b",
   "metadata": {},
   "outputs": [
    {
     "name": "stdout",
     "output_type": "stream",
     "text": [
      "Array 1:\n",
      "[[1 2 3]\n",
      " [1 2 3]\n",
      " [1 2 3]]\n",
      "\n",
      "Array 2:\n",
      "[[1 1 1]\n",
      " [1 1 1]\n",
      " [1 1 1]]\n",
      "\n",
      "Sum: \n",
      "[[1 2 3]\n",
      " [1 2 3]\n",
      " [1 2 3]]\n"
     ]
    }
   ],
   "source": [
    "array_1 = np.tile([1, 2, 3], (3,1))\n",
    "print(\"Array 1:\" ,array_1, sep = \"\\n\", end = \"\\n\\n\")\n",
    "\n",
    "array_2 = np.ones((3,3), dtype = int)\n",
    "print(\"Array 2:\", array_2, sep= \"\\n\" , end = \"\\n\\n\")\n",
    "\n",
    "print(\"Sum: \" ,array_1*array_2, sep= \"\\n\")"
   ]
  },
  {
   "cell_type": "markdown",
   "id": "eec39e94",
   "metadata": {},
   "source": [
    "# Structure"
   ]
  },
  {
   "cell_type": "code",
   "execution_count": 190,
   "id": "df452354",
   "metadata": {},
   "outputs": [
    {
     "name": "stdout",
     "output_type": "stream",
     "text": [
      "Array: \n",
      "[[1 2 3]\n",
      " [1 2 3]\n",
      " [1 2 3]]\n",
      "\n",
      "Data Type:  int32\n",
      "Dimensions:  2\n",
      "Data shape:  (3, 3)\n"
     ]
    }
   ],
   "source": [
    "num_array = np.tile([1,2,3], (3,1))\n",
    "print(\"Array: \", num_array, sep = \"\\n\", end = \"\\n\\n\")\n",
    "\n",
    "print(\"Data Type: \", num_array.dtype) #Data type of array\n",
    "print(\"Dimensions: \", num_array.ndim) # Number of dimensions\n",
    "print(\"Data shape: \", num_array.shape) # 3 by 3"
   ]
  },
  {
   "cell_type": "code",
   "execution_count": 206,
   "id": "5b04abe0",
   "metadata": {},
   "outputs": [
    {
     "name": "stdout",
     "output_type": "stream",
     "text": [
      "[[ 2  4  6]\n",
      " [ 8 10 12]\n",
      " [14 16 18]]\n",
      "\n",
      "1st row:  [2 4 6]\n",
      "0th index/1st element in the 1st row:  2\n",
      "0th index/1st element in the 1st row:  2\n",
      "First 2 elements in the 1st row:  [2 4]\n",
      "Reverse of the 1st row:  [6 4 2]\n"
     ]
    }
   ],
   "source": [
    "# Indexing, subsetting and slicing\n",
    "num_array = np.arange(2,19,2).reshape(3,3) # (19-2)+1= (18/2) = 9 elements are arranged into 3 columns and 3 rows\n",
    "print(num_array, end= \"\\n\\n\")\n",
    "\n",
    "print(\"0th row: \", num_array[0])\n",
    "print(\"0th index/1st element in the 0th row: \", num_array[0][0])\n",
    "#OR\n",
    "print(\"0th index/1st element in the 0th row: \", num_array[0,0])\n",
    "print(\"First 2 elements in the 0th row: \", num_array[0, :2])\n",
    "print(\"Reverse of the 0th row: \", num_array[0, ::-1])\n",
    "\n"
   ]
  },
  {
   "cell_type": "markdown",
   "id": "a1e8a905",
   "metadata": {},
   "source": [
    "# Testing the execution speed"
   ]
  },
  {
   "cell_type": "code",
   "execution_count": 207,
   "id": "c0d9aaf3",
   "metadata": {},
   "outputs": [],
   "source": [
    "import time"
   ]
  },
  {
   "cell_type": "code",
   "execution_count": 209,
   "id": "34b52734",
   "metadata": {},
   "outputs": [
    {
     "name": "stdout",
     "output_type": "stream",
     "text": [
      "Time taken:  0.11348748207092285\n"
     ]
    }
   ],
   "source": [
    "list_1 = [i for i in range (200000)]\n",
    "list_2 = [j**2 for j in range(200000) ]\n",
    "\n",
    "starting_time = time.time()\n",
    "list_mul = list(map(lambda x, y: x*y, list_1, list_2))\n",
    "end_time = time.time()\n",
    "\n",
    "print(\"Time taken: \", end_time - starting_time)"
   ]
  },
  {
   "cell_type": "code",
   "execution_count": 213,
   "id": "0b794856",
   "metadata": {},
   "outputs": [
    {
     "name": "stdout",
     "output_type": "stream",
     "text": [
      "Time taken:  0.0004284381866455078\n"
     ]
    }
   ],
   "source": [
    "# Lets now use an np array\n",
    "array_1 = np.array( [i for i in range (200000)])\n",
    "array_2 = np.array( [j**2 for j in range (200000)])\n",
    "\n",
    "starting_time = time.time()\n",
    "list_mul = array_1*array_2\n",
    "end_time = time.time()\n",
    "\n",
    "print(\"Time taken: \", end_time - starting_time)\n",
    "\n",
    "# Therefore, Numpy array execution time is faster than a list execution time"
   ]
  }
 ],
 "metadata": {
  "kernelspec": {
   "display_name": "Python 3 (ipykernel)",
   "language": "python",
   "name": "python3"
  },
  "language_info": {
   "codemirror_mode": {
    "name": "ipython",
    "version": 3
   },
   "file_extension": ".py",
   "mimetype": "text/x-python",
   "name": "python",
   "nbconvert_exporter": "python",
   "pygments_lexer": "ipython3",
   "version": "3.10.3"
  }
 },
 "nbformat": 4,
 "nbformat_minor": 5
}
